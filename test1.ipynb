{
 "cells": [
  {
   "cell_type": "code",
   "execution_count": 10,
   "metadata": {},
   "outputs": [],
   "source": [
    "import pandas as pd\n",
    "original_df = pd.read_csv(r'database\\original_data\\daily_data\\data.csv', on_bad_lines='skip')"
   ]
  },
  {
   "cell_type": "code",
   "execution_count": 12,
   "metadata": {},
   "outputs": [
    {
     "data": {
      "text/plain": [
       "{'黄金': 'au'}"
      ]
     },
     "execution_count": 12,
     "metadata": {},
     "output_type": "execute_result"
    }
   ],
   "source": [
    "import csv\n",
    "\n",
    "def csv_to_dict(file_path, encoding='utf-8-sig'):\n",
    "    # 初始化空字典\n",
    "    data_dict = {}\n",
    "    \n",
    "    # 打开文件并读取数据，指定编码方式\n",
    "    with open(file_path, 'r', newline='', encoding=encoding) as file:\n",
    "        reader = csv.reader(file)\n",
    "        \n",
    "        # 跳过第一行（表头）\n",
    "        next(reader)\n",
    "\n",
    "        # 遍历每一行数据\n",
    "        for row in reader:\n",
    "            if len(row) >= 2:  # 确保行至少包含两列\n",
    "                key = row[0]\n",
    "                value = row[1]\n",
    "                data_dict[key] = value\n",
    "\n",
    "    return data_dict\n",
    "\n",
    "# 使用函数\n",
    "file_name = r'database\\commodities.csv'\n",
    "commodities_dict = csv_to_dict(file_name)\n",
    "commodities_dict"
   ]
  },
  {
   "cell_type": "code",
   "execution_count": 21,
   "metadata": {},
   "outputs": [
    {
     "name": "stdout",
     "output_type": "stream",
     "text": [
      "1\n",
      "['au2401', None, None, '481.10', '483.00', '483.00', '480.00', '481.00', '480.52', '-0.10', '-0.58', '27', '1297.45', '72']\n",
      "['au2402', None, None, '481.42', '481.24', '483.80', '480.82', '483.32', '482.40', '1.90', '0.98', '37149', '1792116.72', '102542']\n",
      "['au2403', None, None, '481.86', '481.56', '483.94', '481.56', '483.70', '482.76', '1.84', '0.90', '33', '1593.14', '241']\n",
      "['au2404', None, None, '482.26', '482.06', '484.32', '481.38', '484.10', '483.06', '1.84', '0.80', '39658', '1915746.73', '152262']\n",
      "['au2406', None, None, '482.96', '482.88', '485.16', '482.30', '484.90', '483.94', '1.94', '0.98', '15973', '773013.18', '95614']\n",
      "['au2408', None, None, '484.14', '483.94', '486.20', '483.30', '485.86', '484.82', '1.72', '0.68', '1798', '87170.77', '18327']\n",
      "['au2410', None, None, '484.64', '484.30', '486.54', '483.70', '486.28', '485.56', '1.64', '0.92', '284', '13790.08', '4727']\n",
      "['au2412', None, None, '484.82', '484.28', '487.00', '484.26', '486.76', '485.94', '1.94', '1.12', '459', '22305.29', '3105']\n",
      "上海期货交易所期货成交情况 2024年01月02日(周二)\n",
      "20240102\n"
     ]
    }
   ],
   "source": [
    "import csv\n",
    "import re \n",
    "\n",
    "with open('database/original_data/daily_data/data.csv','r', encoding='UTF8') as file:\n",
    "    reader = csv.reader(file)\n",
    "    read_switch = False\n",
    "    data_list = []\n",
    "    for row in reader:\n",
    "        # print(row[354])\n",
    "        if not row:\n",
    "            print(date)\n",
    "            match = re.search(r'(\\d{4})年(\\d{1,2})月(\\d{1,2})日', date)\n",
    "            date = match.groups()\n",
    "            date = f'{date[0]}{date[1]}{date[2]}'\n",
    "            print(date)\n",
    "            break\n",
    "        if row[0] == '小计':\n",
    "            read_switch = False\n",
    "        if read_switch: \n",
    "            row[0] = commodities_dict[key] + row[0]\n",
    "            row.insert(1, None)\n",
    "            row.insert(1, None)\n",
    "            row.pop()\n",
    "            data_list.append(row)\n",
    "            print(row)\n",
    "        if row[0] in ['商品名称:' + key for key in commodities_dict]:\n",
    "            read_switch = True\n",
    "            key = re.search(r'商品名称:\\s*(.*)', row[0]).group(1)\n",
    "        date = row[0]\n",
    "    \n",
    "    \n"
   ]
  },
  {
   "cell_type": "code",
   "execution_count": 22,
   "metadata": {},
   "outputs": [
    {
     "name": "stdout",
     "output_type": "stream",
     "text": [
      "[2, None, 2, 3, 4, 5]\n"
     ]
    },
    {
     "data": {
      "text/plain": [
       "6"
      ]
     },
     "execution_count": 22,
     "metadata": {},
     "output_type": "execute_result"
    }
   ],
   "source": [
    "my_list = [2, 2, 3, 4, 5]\n",
    "# 在第一个元素后插入一个空元素（这里以None为例）\n",
    "my_list.insert(1, None)\n",
    "\n",
    "print(my_list)\n",
    "len(my_list)"
   ]
  }
 ],
 "metadata": {
  "kernelspec": {
   "display_name": "venv",
   "language": "python",
   "name": "python3"
  },
  "language_info": {
   "codemirror_mode": {
    "name": "ipython",
    "version": 3
   },
   "file_extension": ".py",
   "mimetype": "text/x-python",
   "name": "python",
   "nbconvert_exporter": "python",
   "pygments_lexer": "ipython3",
   "version": "3.12.1"
  }
 },
 "nbformat": 4,
 "nbformat_minor": 2
}
