{
 "cells": [
  {
   "cell_type": "markdown",
   "metadata": {},
   "source": [
    "### WMA"
   ]
  },
  {
   "cell_type": "code",
   "execution_count": null,
   "metadata": {},
   "outputs": [],
   "source": [
    "import pandas as pd\n",
    "\n",
    "# 假设df是一个包含日期索引和'Price'列的DataFrame\n",
    "data = {'Price': [10, 12, 14, 16, 18, 20, 22, 24]}\n",
    "index = pd.date_range('2022-01-01', periods=len(data['Price']), freq='D')\n",
    "df = pd.DataFrame(data=data, index=index)\n",
    "\n",
    "# 定义加权移动平均函数\n",
    "def wma(series, weights):\n",
    "    return series.rolling(len(weights)).apply(lambda v: sum(v * weights) / sum(weights))\n",
    "\n",
    "# 设定权重列表\n",
    "weights = [1, 2, 3, 4, 5]\n",
    "\n",
    "# 计算加权移动平均线并添加到新的列'WMA_5'\n",
    "df['WMA_5'] = wma(df['Price'], weights)\n",
    "\n",
    "print(df)"
   ]
  },
  {
   "cell_type": "markdown",
   "metadata": {},
   "source": [
    "### EMA"
   ]
  },
  {
   "cell_type": "code",
   "execution_count": null,
   "metadata": {},
   "outputs": [],
   "source": [
    "import pandas as pd\n",
    "\n",
    "# 假设df是一个包含日期索引和'Price'列的DataFrame\n",
    "data = {'Price': [10, 12, 14, 16, 18, 20, 22, 24, 26, 28, 30]}\n",
    "index = pd.date_range('2022-01-01', periods=len(data['Price']), freq='D')\n",
    "df = pd.DataFrame(data=data, index=index)\n",
    "\n",
    "# 计算EMA需要一个初始值（这里假设是第一个价格）\n",
    "initial_value = df['Price'].iloc[0]\n",
    "\n",
    "# 定义EMA计算函数\n",
    "def calculate_ema(series, window, initial_value):\n",
    "    ema = [initial_value]\n",
    "    multiplier = 2 / (window + 1)\n",
    "    \n",
    "    for i in range(1, len(series)):\n",
    "        ema.append((series.iloc[i] - ema[-1]) * multiplier + ema[-1])\n",
    "\n",
    "    return pd.Series(ema, index=series.index)\n",
    "\n",
    "# 设置窗口大小（周期数）\n",
    "window = 9\n",
    "\n",
    "# 计算EMA并添加到新的列'Ema_10'\n",
    "df['Ema_10'] = calculate_ema(df['Price'], window, initial_value)\n",
    "\n",
    "print(df)"
   ]
  },
  {
   "cell_type": "markdown",
   "metadata": {},
   "source": [
    "### test"
   ]
  },
  {
   "cell_type": "code",
   "execution_count": 1,
   "metadata": {},
   "outputs": [],
   "source": [
    "list1 = [i for i in range(10)]\n",
    "list2 = [1 for _ in range(10)]"
   ]
  },
  {
   "cell_type": "code",
   "execution_count": 7,
   "metadata": {},
   "outputs": [
    {
     "ename": "TypeError",
     "evalue": "unsupported operand type(s) for /: 'list' and 'list'",
     "output_type": "error",
     "traceback": [
      "\u001b[1;31m---------------------------------------------------------------------------\u001b[0m",
      "\u001b[1;31mTypeError\u001b[0m                                 Traceback (most recent call last)",
      "Cell \u001b[1;32mIn[7], line 1\u001b[0m\n\u001b[1;32m----> 1\u001b[0m \u001b[43mlist1\u001b[49m\u001b[43m \u001b[49m\u001b[38;5;241;43m/\u001b[39;49m\u001b[43m \u001b[49m\u001b[43mlist2\u001b[49m\n",
      "\u001b[1;31mTypeError\u001b[0m: unsupported operand type(s) for /: 'list' and 'list'"
     ]
    }
   ],
   "source": [
    "list1 / list2"
   ]
  }
 ],
 "metadata": {
  "kernelspec": {
   "display_name": "venv",
   "language": "python",
   "name": "python3"
  },
  "language_info": {
   "codemirror_mode": {
    "name": "ipython",
    "version": 3
   },
   "file_extension": ".py",
   "mimetype": "text/x-python",
   "name": "python",
   "nbconvert_exporter": "python",
   "pygments_lexer": "ipython3",
   "version": "3.12.1"
  }
 },
 "nbformat": 4,
 "nbformat_minor": 2
}
