{
 "cells": [
  {
   "cell_type": "code",
   "execution_count": 1,
   "metadata": {},
   "outputs": [],
   "source": [
    "import pandas as pd\n",
    "import os"
   ]
  },
  {
   "cell_type": "code",
   "execution_count": 7,
   "metadata": {},
   "outputs": [],
   "source": [
    "file = 'MarketData_Year_2023/所内合约行情报表2023.1.xls'\n",
    "data = pd.DataFrame()\n",
    "data = pd.read_excel(file)\n"
   ]
  },
  {
   "cell_type": "code",
   "execution_count": 8,
   "metadata": {},
   "outputs": [
    {
     "name": "stdout",
     "output_type": "stream",
     "text": [
      "                                                所内合约行情报表 Unnamed: 1  \\\n",
      "0                                             Daily Data        NaN   \n",
      "1                                                     合约         日期   \n",
      "2                                               Contract       Date   \n",
      "3                                                 ag2301   20230103   \n",
      "4                                                    NaN   20230104   \n",
      "...                                                  ...        ...   \n",
      "37369                                                NaN        NaN   \n",
      "37370  1、 合约单位：铜、铝、锌、天然橡胶为5吨/手，天然橡胶(1208开始)、燃料油、沥青、螺纹...        NaN   \n",
      "37371  2、 报价单位：铜、铝、锌、铅、螺纹钢、线材、热轧卷板、天然橡胶、燃料油、沥青为元/吨；黄金...        NaN   \n",
      "37372            3、 成交量、持仓量、持仓变化单位为手，单边计算；成交金额单位为万元，单边计算        NaN   \n",
      "37373                        4、 涨跌1=收盘价-前结算； 涨跌2=结算价-前结算        NaN   \n",
      "\n",
      "      Unnamed: 2  Unnamed: 3 Unnamed: 4 Unnamed: 5 Unnamed: 6 Unnamed: 7  \\\n",
      "0            NaN         NaN        NaN        NaN        NaN        NaN   \n",
      "1            前收盘         前结算        开盘价        最高价        最低价        收盘价   \n",
      "2      pre close  Pre settle       Open       High        Low      Close   \n",
      "3           5360        5312       5364       5402       5306       5390   \n",
      "4           5390        5352       5369       5401       5311       5336   \n",
      "...          ...         ...        ...        ...        ...        ...   \n",
      "37369        NaN         NaN        NaN        NaN        NaN        NaN   \n",
      "37370        NaN         NaN        NaN        NaN        NaN        NaN   \n",
      "37371        NaN         NaN        NaN        NaN        NaN        NaN   \n",
      "37372        NaN         NaN        NaN        NaN        NaN        NaN   \n",
      "37373        NaN         NaN        NaN        NaN        NaN        NaN   \n",
      "\n",
      "      Unnamed: 8 Unnamed: 9 Unnamed: 10 Unnamed: 11 Unnamed: 12 Unnamed: 13  \\\n",
      "0            NaN        NaN         NaN         NaN         NaN         NaN   \n",
      "1            结算价        涨跌1         涨跌2         成交量        成交金额         持仓量   \n",
      "2         Settle        ch1         ch2      Volume      Amount          OI   \n",
      "3           5352         78          40        1164    9345.639       11128   \n",
      "4           5340        -16         -12        1068    8556.012       10580   \n",
      "...          ...        ...         ...         ...         ...         ...   \n",
      "37369        NaN        NaN         NaN         NaN         NaN         NaN   \n",
      "37370        NaN        NaN         NaN         NaN         NaN         NaN   \n",
      "37371        NaN        NaN         NaN         NaN         NaN         NaN   \n",
      "37372        NaN        NaN         NaN         NaN         NaN         NaN   \n",
      "37373        NaN        NaN         NaN         NaN         NaN         NaN   \n",
      "\n",
      "           \n",
      "0     NaN  \n",
      "1     NaN  \n",
      "2     NaN  \n",
      "3     NaN  \n",
      "4     NaN  \n",
      "...    ..  \n",
      "37369 NaN  \n",
      "37370 NaN  \n",
      "37371 NaN  \n",
      "37372 NaN  \n",
      "37373 NaN  \n",
      "\n",
      "[37374 rows x 15 columns]\n"
     ]
    }
   ],
   "source": [
    "print(data)"
   ]
  }
 ],
 "metadata": {
  "kernelspec": {
   "display_name": "venv",
   "language": "python",
   "name": "python3"
  },
  "language_info": {
   "codemirror_mode": {
    "name": "ipython",
    "version": 3
   },
   "file_extension": ".py",
   "mimetype": "text/x-python",
   "name": "python",
   "nbconvert_exporter": "python",
   "pygments_lexer": "ipython3",
   "version": "3.12.1"
  }
 },
 "nbformat": 4,
 "nbformat_minor": 2
}
